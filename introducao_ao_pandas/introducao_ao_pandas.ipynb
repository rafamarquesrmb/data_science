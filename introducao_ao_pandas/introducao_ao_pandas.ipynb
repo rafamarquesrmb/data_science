{
  "nbformat": 4,
  "nbformat_minor": 0,
  "metadata": {
    "colab": {
      "name": "Introdução ao Pandas.ipynb",
      "provenance": [],
      "toc_visible": true,
      "authorship_tag": "ABX9TyO3i1TZt66pVUyxHcZwyqx0",
      "include_colab_link": true
    },
    "kernelspec": {
      "name": "python3",
      "display_name": "Python 3"
    }
  },
  "cells": [
    {
      "cell_type": "markdown",
      "metadata": {
        "id": "view-in-github",
        "colab_type": "text"
      },
      "source": [
        "<a href=\"https://colab.research.google.com/github/rafamarquesrmb/data_science/blob/main/introducao_ao_pandas/introducao_ao_pandas.ipynb\" target=\"_parent\"><img src=\"https://colab.research.google.com/assets/colab-badge.svg\" alt=\"Open In Colab\"/></a>"
      ]
    },
    {
      "cell_type": "markdown",
      "metadata": {
        "id": "xvfKZgm_d6pl"
      },
      "source": [
        "#Introdução ao Pandas\r\n",
        "\r\n",
        "O **Pandas** é uma Biblioteca do Python muito popular para lidar com Dados. Provavelmente a mais popular biblioteca quando se trata de Data Science.\r\n",
        "\r\n",
        "Pandas significa **\"Python Data Analysis Library\"**, ou seja, Biblioteca de Análise de Dados em Python. A biblioteca Pandas foi contruida baseada na biblioteca **NumPy**, que também é muito popular dentro da comunidade do Python.\r\n",
        "\r\n",
        "Através do Pandas, podemos importar dados através de arquivos **csv**, **xls** e outros, inclusive, conseguimos importar dados do formato **JSON**. \r\n",
        "\r\n",
        "O pandas no permite tratar esses dados, transforma-los e realizar diversas análises com esses dados.\r\n",
        "\r\n",
        "Dentre algumas possibilidades do que podemos fazer em um conjunto de dados utilizando o pandas temos:\r\n",
        "\r\n",
        "* Extrair informações estatísticas;\r\n",
        "* Identificar valores como média, mediana, valores máximos e mínimos;\r\n",
        "* Identificar a distribuição das variáveis;\r\n",
        "* Identificar correlações entre duas variáveis quaisquer;\r\n",
        "* Exportar os dados para outro formato de arquivo;\r\n",
        "* Alterar o formato dos dados;\r\n",
        "* Alterar, acrescentar ou remover linhas, colunas e valores;\r\n",
        "* Visualizar gráficos dos mais diferentes tipos;\r\n",
        "\r\n",
        "Além dos citados, é possível realizar muitas outras coisas com o Pandas.\r\n",
        "\r\n",
        "Outro grande destaque do Pandas é a facil integração com a biblioteca **SciKit-Learn**, muito utilizada para o treinamento de modelos de Machine Learning.\r\n",
        "\r\n",
        "A documentação do Pandas se encontra no link https://pandas.pydata.org/docs/ , onde vale a pena conferir para entender suas funcionalidades."
      ]
    },
    {
      "cell_type": "markdown",
      "metadata": {
        "id": "JLyj45belHPZ"
      },
      "source": [
        "## Instalar e Utilizar o Pandas\r\n",
        "\r\n",
        "O pandas é um biblioteca open source e de de uso gratuito.\r\n",
        "\r\n",
        "Atualmente a maioria das IDEs do Python já trazem consigo o Pandas. Porém, caso sua IDE não possua o Pandas instalado, você pode instalar o código na sua máquina local. Para isso, basta utilizar linhas de comando no seu gerenciador de pacotes(`pip` ou `conda`).\r\n",
        "\r\n",
        "Se você utiliza o pip, então basta digitar o comando:\r\n",
        "\r\n",
        "`pip install pandas`\r\n",
        "\r\n",
        "Mas, caso utilize o conda, então utilize o comando:\r\n",
        "\r\n",
        "`conda install pandas`\r\n",
        "\r\n",
        "Caso você utilize o Jupyter Notebook ou o Google Colab, você não precisa instalar, pois o Pandas já vem instalado por padrão. Dessa forma, você apenas precisará importar a biblioteca Pandas para o seu projeto.\r\n",
        "\r\n",
        "para realizar a Importação do pandas, basta utilizar o `import nome_da_biblioteca`. Vale ressaltar que a maioria dos projetos que utilizam o pandas abreviam o nome da biblioteca para `pd`. Claro que você pode escolher a forma que desejar, porém, ao utilizar a abraviação pd, seu código será facilmente entendido pela comunidade. Portanto, a nossa importação será feita com: `import pandas as pd`.\r\n",
        "\r\n",
        "Fazendo os passos acima, você já tem o pandas instalado e importado no seu projeto."
      ]
    },
    {
      "cell_type": "code",
      "metadata": {
        "id": "gDKnm4DKo1Hp"
      },
      "source": [
        "# importar a biblioteca pandas\r\n",
        "import pandas as pd"
      ],
      "execution_count": 2,
      "outputs": []
    },
    {
      "cell_type": "markdown",
      "metadata": {
        "id": "iS2UMHJqo7bX"
      },
      "source": [
        "### Importando uma base de Dados CSV\r\n",
        "\r\n",
        "Pelo site [Yahoo Finance](https://finance.yahoo.com/), coletamos os dados da ação *Itaúsa - Investimentos Itaú S.A.* (ITSA4.SA) em formato csv para o período de 09 de Fev de 2020 à 09 de fev de 2021. Os mesmos dados coletados estão disponíveis [neste link](https://raw.githubusercontent.com/rafamarquesrmb/data_science/main/introducao_ao_pandas/ITSA4.SA.csv).\r\n",
        "\r\n",
        "Para realizarmos a importação da nossa base de dados, vamos utilizar a função read_csv do pandas. Também iremos criar um variavél `df` que será a variável responsável por armazenar o nosso dataframe (base de dados).\r\n",
        "\r\n",
        "Portanto, utilizaremos o formato de código pd.read_csv(\"local_do_arquivo.csv\") para isso! Como já criei um repositório público contendo o nosso arquivo csv, posso importar utilizando a url desse arquivo."
      ]
    },
    {
      "cell_type": "code",
      "metadata": {
        "id": "VyyuXnkH0ZV-"
      },
      "source": [
        "# importar o arquivo csv para o Pandas\r\n",
        "df = pd.read_csv(\"https://raw.githubusercontent.com/rafamarquesrmb/data_science/main/introducao_ao_pandas/ITSA4.SA.csv\")"
      ],
      "execution_count": 3,
      "outputs": []
    },
    {
      "cell_type": "markdown",
      "metadata": {
        "id": "ax6BwfGp0kZk"
      },
      "source": [
        "Pronto! Agora a minha base de dados do arquivo **ITSA4.SA.csv** já está importado para o meu projeto! Viu como é facinho importar um base de dados com o Pandas?"
      ]
    },
    {
      "cell_type": "markdown",
      "metadata": {
        "id": "IisZ7jvH1dJ1"
      },
      "source": [
        "### Series e DataFrame\r\n",
        "\r\n",
        "Apesar de ser simples, é importante entender os componentes básicos do Pandas. São eles os componentes `Series` e `DataFrame`.\r\n",
        "\r\n",
        "Para entende-los, podemos resumir que o DataFrame comporta toda a nossa base de dados, ou seja, todas as linhas e colunas. Poderíamos comparar à uma planilha do excel. Já uma Series seria representada apenas por um coluna, individualmente.\r\n",
        "\r\n",
        "Na imagem abaixo você consegue visualizar isso de uma forma melhor:\r\n",
        "\r\n",
        "\r\n",
        "\r\n",
        "---\r\n",
        "\r\n",
        "\r\n",
        "<center><img src=\"https://raw.githubusercontent.com/rafamarquesrmb/data_science/main/introducao_ao_pandas/componentes_pandas.png.png\" alt=\"Exemplo visual de Series e Dataframe da biblioteca Pandas\"></center>\r\n",
        "\r\n",
        "*-**Imagem** : Exemplo Visual de Series e DataFrame da Biblioteca Pandas. Fonte: [Carlos Melo](https://github.com/carlosfab) - [Escola Sigmoidal](https://escola.sigmoidal.ai/).*\r\n",
        "\r\n",
        "---\r\n",
        "\r\n",
        "\r\n",
        "\r\n",
        "Esses dois componentes do Pandas auxiliam muito ao trabalhar com dados, já que são capazes de armazenar todo tipo de dados.\r\n",
        "\r\n",
        "Quando queremos identificar o tipo de um dado/variável, utilizamos a função `type()`.\r\n",
        "\r\n",
        "Vamos então verificar o tipo da nossa variável `df`."
      ]
    },
    {
      "cell_type": "code",
      "metadata": {
        "colab": {
          "base_uri": "https://localhost:8080/"
        },
        "id": "hZCEin9j5Zem",
        "outputId": "af900bb5-d5de-4a5f-df4d-61262f4238a5"
      },
      "source": [
        "# ver o tipo da variável df\r\n",
        "type(df)"
      ],
      "execution_count": 4,
      "outputs": [
        {
          "output_type": "execute_result",
          "data": {
            "text/plain": [
              "pandas.core.frame.DataFrame"
            ]
          },
          "metadata": {
            "tags": []
          },
          "execution_count": 4
        }
      ]
    },
    {
      "cell_type": "markdown",
      "metadata": {
        "id": "AZAdtdI85cUU"
      },
      "source": [
        "Observe que foi retornado a mensagem `pandas.core.frame.DataFrame`, o que significa que a nossa variável `df` representa o tipo DataFrame.\r\n",
        "\r\n",
        "Digamos que queremos pegar apenas um coluna, vamos então utilizar o mesmo código acima para uma de nossas colunas, por exemplo: a coluna \"open\".[texto do link](https://)"
      ]
    },
    {
      "cell_type": "code",
      "metadata": {
        "colab": {
          "base_uri": "https://localhost:8080/"
        },
        "id": "fZkYgKUU504C",
        "outputId": "c3bda95c-e0aa-41f1-acae-78b6e8c385fe"
      },
      "source": [
        "# ver o tipo da coluna \"open\" da variável df\r\n",
        "type(df['Open'])"
      ],
      "execution_count": 4,
      "outputs": [
        {
          "output_type": "execute_result",
          "data": {
            "text/plain": [
              "pandas.core.series.Series"
            ]
          },
          "metadata": {
            "tags": []
          },
          "execution_count": 4
        }
      ]
    },
    {
      "cell_type": "markdown",
      "metadata": {
        "id": "WVY0My1G6BeS"
      },
      "source": [
        "Observe que, agora, foi retornado a mensagem `pandas.core.series.Series`, o que representa o tipo Series. Isso está totalmente correto, pois a nossa variável `df['open']` representa, de fato, uma coluna do nosso DataFrame. Poderíamos fazer o mesmo teste para qualquer um de nossas colunas."
      ]
    },
    {
      "cell_type": "markdown",
      "metadata": {
        "id": "mSuhEwR16rq-"
      },
      "source": [
        "### Verificando o Tamanho da nossa Base de Dados\r\n",
        "\r\n",
        "Como citado anteriormente, a nossa base de dados (DataFrame) é \"parecido\" com uma tabela. Portanto, ela é composta de linhas e colunas.\r\n",
        "\r\n",
        "Uma forma simples e rápida de dimensionarmos o formato de nosso DataFrame é utilizando o atributo `shape`."
      ]
    },
    {
      "cell_type": "code",
      "metadata": {
        "colab": {
          "base_uri": "https://localhost:8080/"
        },
        "id": "o71UjaXz7PCB",
        "outputId": "75a03347-ae9c-4db9-a53b-9fa804be878c"
      },
      "source": [
        "# verificar as dimensões do dataframe (formato)\r\n",
        "df.shape"
      ],
      "execution_count": 5,
      "outputs": [
        {
          "output_type": "execute_result",
          "data": {
            "text/plain": [
              "(246, 7)"
            ]
          },
          "metadata": {
            "tags": []
          },
          "execution_count": 5
        }
      ]
    },
    {
      "cell_type": "markdown",
      "metadata": {
        "id": "NhNlI3Lh7XpZ"
      },
      "source": [
        "Observe que ao executar o código acima, temos como resposta os valores (246, 7). O retorno representa o número de linhas x número de colunas. Portanto, no nosso DataFrame, temos 246 linhas e 7 colunas."
      ]
    },
    {
      "cell_type": "markdown",
      "metadata": {
        "id": "tc-M3iLQ7wea"
      },
      "source": [
        "### Análise inicial das entradas do nosso DataFrame\r\n",
        "\r\n",
        "\r\n",
        "Através da importação da base de dados para o Pandas, podemos utilizar diversos métodos nativos da estrutura DataFrame. Esses métodos possuem diversas funcionalidade que facilitam a nossa exploração de dados.\r\n",
        "\r\n",
        "Diversas vezes, vamos trabalhar com bases de dados enormes. Seria inviável análisar linha por linha manualmente. Porém, é muito importante que a gente tenha uma noção de como estão os dados das linhas iniciais e finais de nossa base. Apenas ao identificarmos os dados iniciais e finais, já conseguimos análisar o estado de nossos dados, ter noção dos dados que iremos lidar.\r\n",
        "\r\n",
        "Duas funções extremamente importantes e muito utilizadas em projetos de Análise de Dados são as funções `df.head()` e `df.tail()`. Através delas, conseguimos ler as primeiras e ultimas linhas de nosso DataFrame. Se utilizarmos sem passar nenhum parâmetro, essas funções irão retornar as 5 primeiras ou ultimas entradas do conjunto de dados.\r\n",
        "\r\n",
        "* `df.head()` - exibe as 5 primeiras entradas do conjunto de dados\r\n",
        "* `df.tail()` - exibe as 5 últimas entradas do conjunto de dados"
      ]
    },
    {
      "cell_type": "code",
      "metadata": {
        "colab": {
          "base_uri": "https://localhost:8080/",
          "height": 204
        },
        "id": "ETBBkOSl9VgK",
        "outputId": "2f775a41-da42-4222-d3f4-4a6d2cd712f9"
      },
      "source": [
        "# mostrar as 5 primeiras entradas do DataFrame\r\n",
        "df.head()"
      ],
      "execution_count": 6,
      "outputs": [
        {
          "output_type": "execute_result",
          "data": {
            "text/html": [
              "<div>\n",
              "<style scoped>\n",
              "    .dataframe tbody tr th:only-of-type {\n",
              "        vertical-align: middle;\n",
              "    }\n",
              "\n",
              "    .dataframe tbody tr th {\n",
              "        vertical-align: top;\n",
              "    }\n",
              "\n",
              "    .dataframe thead th {\n",
              "        text-align: right;\n",
              "    }\n",
              "</style>\n",
              "<table border=\"1\" class=\"dataframe\">\n",
              "  <thead>\n",
              "    <tr style=\"text-align: right;\">\n",
              "      <th></th>\n",
              "      <th>Date</th>\n",
              "      <th>Open</th>\n",
              "      <th>High</th>\n",
              "      <th>Low</th>\n",
              "      <th>Close</th>\n",
              "      <th>Adj Close</th>\n",
              "      <th>Volume</th>\n",
              "    </tr>\n",
              "  </thead>\n",
              "  <tbody>\n",
              "    <tr>\n",
              "      <th>0</th>\n",
              "      <td>2020-02-10</td>\n",
              "      <td>12.85</td>\n",
              "      <td>13.16</td>\n",
              "      <td>12.75</td>\n",
              "      <td>13.05</td>\n",
              "      <td>12.537290</td>\n",
              "      <td>21223000.0</td>\n",
              "    </tr>\n",
              "    <tr>\n",
              "      <th>1</th>\n",
              "      <td>2020-02-11</td>\n",
              "      <td>13.22</td>\n",
              "      <td>13.39</td>\n",
              "      <td>13.09</td>\n",
              "      <td>13.28</td>\n",
              "      <td>12.758253</td>\n",
              "      <td>29302500.0</td>\n",
              "    </tr>\n",
              "    <tr>\n",
              "      <th>2</th>\n",
              "      <td>2020-02-12</td>\n",
              "      <td>13.32</td>\n",
              "      <td>13.51</td>\n",
              "      <td>13.25</td>\n",
              "      <td>13.37</td>\n",
              "      <td>12.844719</td>\n",
              "      <td>29504800.0</td>\n",
              "    </tr>\n",
              "    <tr>\n",
              "      <th>3</th>\n",
              "      <td>2020-02-13</td>\n",
              "      <td>13.27</td>\n",
              "      <td>13.36</td>\n",
              "      <td>13.13</td>\n",
              "      <td>13.17</td>\n",
              "      <td>12.652575</td>\n",
              "      <td>13984500.0</td>\n",
              "    </tr>\n",
              "    <tr>\n",
              "      <th>4</th>\n",
              "      <td>2020-02-14</td>\n",
              "      <td>13.15</td>\n",
              "      <td>13.17</td>\n",
              "      <td>13.00</td>\n",
              "      <td>13.00</td>\n",
              "      <td>12.489255</td>\n",
              "      <td>13364400.0</td>\n",
              "    </tr>\n",
              "  </tbody>\n",
              "</table>\n",
              "</div>"
            ],
            "text/plain": [
              "         Date   Open   High    Low  Close  Adj Close      Volume\n",
              "0  2020-02-10  12.85  13.16  12.75  13.05  12.537290  21223000.0\n",
              "1  2020-02-11  13.22  13.39  13.09  13.28  12.758253  29302500.0\n",
              "2  2020-02-12  13.32  13.51  13.25  13.37  12.844719  29504800.0\n",
              "3  2020-02-13  13.27  13.36  13.13  13.17  12.652575  13984500.0\n",
              "4  2020-02-14  13.15  13.17  13.00  13.00  12.489255  13364400.0"
            ]
          },
          "metadata": {
            "tags": []
          },
          "execution_count": 6
        }
      ]
    },
    {
      "cell_type": "code",
      "metadata": {
        "colab": {
          "base_uri": "https://localhost:8080/",
          "height": 204
        },
        "id": "p86qrLuv9WyJ",
        "outputId": "aa4f8d86-028e-4846-ba8b-4dd186b391d4"
      },
      "source": [
        "# mostrar as 5 últimas entradas do DataFrame\r\n",
        "df.tail()"
      ],
      "execution_count": 7,
      "outputs": [
        {
          "output_type": "execute_result",
          "data": {
            "text/html": [
              "<div>\n",
              "<style scoped>\n",
              "    .dataframe tbody tr th:only-of-type {\n",
              "        vertical-align: middle;\n",
              "    }\n",
              "\n",
              "    .dataframe tbody tr th {\n",
              "        vertical-align: top;\n",
              "    }\n",
              "\n",
              "    .dataframe thead th {\n",
              "        text-align: right;\n",
              "    }\n",
              "</style>\n",
              "<table border=\"1\" class=\"dataframe\">\n",
              "  <thead>\n",
              "    <tr style=\"text-align: right;\">\n",
              "      <th></th>\n",
              "      <th>Date</th>\n",
              "      <th>Open</th>\n",
              "      <th>High</th>\n",
              "      <th>Low</th>\n",
              "      <th>Close</th>\n",
              "      <th>Adj Close</th>\n",
              "      <th>Volume</th>\n",
              "    </tr>\n",
              "  </thead>\n",
              "  <tbody>\n",
              "    <tr>\n",
              "      <th>241</th>\n",
              "      <td>2021-02-02</td>\n",
              "      <td>10.85</td>\n",
              "      <td>10.92</td>\n",
              "      <td>10.55</td>\n",
              "      <td>10.81</td>\n",
              "      <td>10.81</td>\n",
              "      <td>76871000.0</td>\n",
              "    </tr>\n",
              "    <tr>\n",
              "      <th>242</th>\n",
              "      <td>2021-02-03</td>\n",
              "      <td>10.82</td>\n",
              "      <td>11.02</td>\n",
              "      <td>10.77</td>\n",
              "      <td>10.82</td>\n",
              "      <td>10.82</td>\n",
              "      <td>27407500.0</td>\n",
              "    </tr>\n",
              "    <tr>\n",
              "      <th>243</th>\n",
              "      <td>2021-02-04</td>\n",
              "      <td>10.85</td>\n",
              "      <td>10.90</td>\n",
              "      <td>10.75</td>\n",
              "      <td>10.82</td>\n",
              "      <td>10.82</td>\n",
              "      <td>32973100.0</td>\n",
              "    </tr>\n",
              "    <tr>\n",
              "      <th>244</th>\n",
              "      <td>2021-02-05</td>\n",
              "      <td>10.84</td>\n",
              "      <td>10.89</td>\n",
              "      <td>10.70</td>\n",
              "      <td>10.77</td>\n",
              "      <td>10.77</td>\n",
              "      <td>13020300.0</td>\n",
              "    </tr>\n",
              "    <tr>\n",
              "      <th>245</th>\n",
              "      <td>2021-02-08</td>\n",
              "      <td>10.73</td>\n",
              "      <td>10.75</td>\n",
              "      <td>10.58</td>\n",
              "      <td>10.61</td>\n",
              "      <td>10.61</td>\n",
              "      <td>18009500.0</td>\n",
              "    </tr>\n",
              "  </tbody>\n",
              "</table>\n",
              "</div>"
            ],
            "text/plain": [
              "           Date   Open   High    Low  Close  Adj Close      Volume\n",
              "241  2021-02-02  10.85  10.92  10.55  10.81      10.81  76871000.0\n",
              "242  2021-02-03  10.82  11.02  10.77  10.82      10.82  27407500.0\n",
              "243  2021-02-04  10.85  10.90  10.75  10.82      10.82  32973100.0\n",
              "244  2021-02-05  10.84  10.89  10.70  10.77      10.77  13020300.0\n",
              "245  2021-02-08  10.73  10.75  10.58  10.61      10.61  18009500.0"
            ]
          },
          "metadata": {
            "tags": []
          },
          "execution_count": 7
        }
      ]
    },
    {
      "cell_type": "markdown",
      "metadata": {
        "id": "wmwD7_SI9g8x"
      },
      "source": [
        "Mas, se queremos ver um número especifico dessas entradas, podemos passar esse valor como parâmetro."
      ]
    },
    {
      "cell_type": "code",
      "metadata": {
        "colab": {
          "base_uri": "https://localhost:8080/",
          "height": 359
        },
        "id": "-9gT1WjL9kOB",
        "outputId": "f6ee1d6f-473a-40f2-bbf6-39c6222ce3ce"
      },
      "source": [
        "# mostrar as 10 primeiras entradas do DataFrame\r\n",
        "df.head(10)"
      ],
      "execution_count": 8,
      "outputs": [
        {
          "output_type": "execute_result",
          "data": {
            "text/html": [
              "<div>\n",
              "<style scoped>\n",
              "    .dataframe tbody tr th:only-of-type {\n",
              "        vertical-align: middle;\n",
              "    }\n",
              "\n",
              "    .dataframe tbody tr th {\n",
              "        vertical-align: top;\n",
              "    }\n",
              "\n",
              "    .dataframe thead th {\n",
              "        text-align: right;\n",
              "    }\n",
              "</style>\n",
              "<table border=\"1\" class=\"dataframe\">\n",
              "  <thead>\n",
              "    <tr style=\"text-align: right;\">\n",
              "      <th></th>\n",
              "      <th>Date</th>\n",
              "      <th>Open</th>\n",
              "      <th>High</th>\n",
              "      <th>Low</th>\n",
              "      <th>Close</th>\n",
              "      <th>Adj Close</th>\n",
              "      <th>Volume</th>\n",
              "    </tr>\n",
              "  </thead>\n",
              "  <tbody>\n",
              "    <tr>\n",
              "      <th>0</th>\n",
              "      <td>2020-02-10</td>\n",
              "      <td>12.85</td>\n",
              "      <td>13.16</td>\n",
              "      <td>12.75</td>\n",
              "      <td>13.05</td>\n",
              "      <td>12.537290</td>\n",
              "      <td>21223000.0</td>\n",
              "    </tr>\n",
              "    <tr>\n",
              "      <th>1</th>\n",
              "      <td>2020-02-11</td>\n",
              "      <td>13.22</td>\n",
              "      <td>13.39</td>\n",
              "      <td>13.09</td>\n",
              "      <td>13.28</td>\n",
              "      <td>12.758253</td>\n",
              "      <td>29302500.0</td>\n",
              "    </tr>\n",
              "    <tr>\n",
              "      <th>2</th>\n",
              "      <td>2020-02-12</td>\n",
              "      <td>13.32</td>\n",
              "      <td>13.51</td>\n",
              "      <td>13.25</td>\n",
              "      <td>13.37</td>\n",
              "      <td>12.844719</td>\n",
              "      <td>29504800.0</td>\n",
              "    </tr>\n",
              "    <tr>\n",
              "      <th>3</th>\n",
              "      <td>2020-02-13</td>\n",
              "      <td>13.27</td>\n",
              "      <td>13.36</td>\n",
              "      <td>13.13</td>\n",
              "      <td>13.17</td>\n",
              "      <td>12.652575</td>\n",
              "      <td>13984500.0</td>\n",
              "    </tr>\n",
              "    <tr>\n",
              "      <th>4</th>\n",
              "      <td>2020-02-14</td>\n",
              "      <td>13.15</td>\n",
              "      <td>13.17</td>\n",
              "      <td>13.00</td>\n",
              "      <td>13.00</td>\n",
              "      <td>12.489255</td>\n",
              "      <td>13364400.0</td>\n",
              "    </tr>\n",
              "    <tr>\n",
              "      <th>5</th>\n",
              "      <td>2020-02-17</td>\n",
              "      <td>13.10</td>\n",
              "      <td>13.17</td>\n",
              "      <td>13.00</td>\n",
              "      <td>13.00</td>\n",
              "      <td>12.489255</td>\n",
              "      <td>10280300.0</td>\n",
              "    </tr>\n",
              "    <tr>\n",
              "      <th>6</th>\n",
              "      <td>2020-02-18</td>\n",
              "      <td>13.01</td>\n",
              "      <td>13.19</td>\n",
              "      <td>12.88</td>\n",
              "      <td>13.19</td>\n",
              "      <td>12.671790</td>\n",
              "      <td>78579900.0</td>\n",
              "    </tr>\n",
              "    <tr>\n",
              "      <th>7</th>\n",
              "      <td>2020-02-19</td>\n",
              "      <td>13.19</td>\n",
              "      <td>13.47</td>\n",
              "      <td>13.15</td>\n",
              "      <td>13.34</td>\n",
              "      <td>12.815897</td>\n",
              "      <td>41161400.0</td>\n",
              "    </tr>\n",
              "    <tr>\n",
              "      <th>8</th>\n",
              "      <td>2020-02-20</td>\n",
              "      <td>13.38</td>\n",
              "      <td>13.43</td>\n",
              "      <td>13.17</td>\n",
              "      <td>13.25</td>\n",
              "      <td>12.729432</td>\n",
              "      <td>25207300.0</td>\n",
              "    </tr>\n",
              "    <tr>\n",
              "      <th>9</th>\n",
              "      <td>2020-02-21</td>\n",
              "      <td>12.72</td>\n",
              "      <td>12.81</td>\n",
              "      <td>12.57</td>\n",
              "      <td>12.81</td>\n",
              "      <td>12.520274</td>\n",
              "      <td>18050500.0</td>\n",
              "    </tr>\n",
              "  </tbody>\n",
              "</table>\n",
              "</div>"
            ],
            "text/plain": [
              "         Date   Open   High    Low  Close  Adj Close      Volume\n",
              "0  2020-02-10  12.85  13.16  12.75  13.05  12.537290  21223000.0\n",
              "1  2020-02-11  13.22  13.39  13.09  13.28  12.758253  29302500.0\n",
              "2  2020-02-12  13.32  13.51  13.25  13.37  12.844719  29504800.0\n",
              "3  2020-02-13  13.27  13.36  13.13  13.17  12.652575  13984500.0\n",
              "4  2020-02-14  13.15  13.17  13.00  13.00  12.489255  13364400.0\n",
              "5  2020-02-17  13.10  13.17  13.00  13.00  12.489255  10280300.0\n",
              "6  2020-02-18  13.01  13.19  12.88  13.19  12.671790  78579900.0\n",
              "7  2020-02-19  13.19  13.47  13.15  13.34  12.815897  41161400.0\n",
              "8  2020-02-20  13.38  13.43  13.17  13.25  12.729432  25207300.0\n",
              "9  2020-02-21  12.72  12.81  12.57  12.81  12.520274  18050500.0"
            ]
          },
          "metadata": {
            "tags": []
          },
          "execution_count": 8
        }
      ]
    },
    {
      "cell_type": "code",
      "metadata": {
        "colab": {
          "base_uri": "https://localhost:8080/",
          "height": 111
        },
        "id": "zJq4lgV_9tch",
        "outputId": "14628521-bc2a-49f2-e8d3-61ad5ca61856"
      },
      "source": [
        "# mostrar as 2 últimas entradas do DataFrame\r\n",
        "df.tail(2)"
      ],
      "execution_count": 9,
      "outputs": [
        {
          "output_type": "execute_result",
          "data": {
            "text/html": [
              "<div>\n",
              "<style scoped>\n",
              "    .dataframe tbody tr th:only-of-type {\n",
              "        vertical-align: middle;\n",
              "    }\n",
              "\n",
              "    .dataframe tbody tr th {\n",
              "        vertical-align: top;\n",
              "    }\n",
              "\n",
              "    .dataframe thead th {\n",
              "        text-align: right;\n",
              "    }\n",
              "</style>\n",
              "<table border=\"1\" class=\"dataframe\">\n",
              "  <thead>\n",
              "    <tr style=\"text-align: right;\">\n",
              "      <th></th>\n",
              "      <th>Date</th>\n",
              "      <th>Open</th>\n",
              "      <th>High</th>\n",
              "      <th>Low</th>\n",
              "      <th>Close</th>\n",
              "      <th>Adj Close</th>\n",
              "      <th>Volume</th>\n",
              "    </tr>\n",
              "  </thead>\n",
              "  <tbody>\n",
              "    <tr>\n",
              "      <th>244</th>\n",
              "      <td>2021-02-05</td>\n",
              "      <td>10.84</td>\n",
              "      <td>10.89</td>\n",
              "      <td>10.70</td>\n",
              "      <td>10.77</td>\n",
              "      <td>10.77</td>\n",
              "      <td>13020300.0</td>\n",
              "    </tr>\n",
              "    <tr>\n",
              "      <th>245</th>\n",
              "      <td>2021-02-08</td>\n",
              "      <td>10.73</td>\n",
              "      <td>10.75</td>\n",
              "      <td>10.58</td>\n",
              "      <td>10.61</td>\n",
              "      <td>10.61</td>\n",
              "      <td>18009500.0</td>\n",
              "    </tr>\n",
              "  </tbody>\n",
              "</table>\n",
              "</div>"
            ],
            "text/plain": [
              "           Date   Open   High    Low  Close  Adj Close      Volume\n",
              "244  2021-02-05  10.84  10.89  10.70  10.77      10.77  13020300.0\n",
              "245  2021-02-08  10.73  10.75  10.58  10.61      10.61  18009500.0"
            ]
          },
          "metadata": {
            "tags": []
          },
          "execution_count": 9
        }
      ]
    },
    {
      "cell_type": "markdown",
      "metadata": {
        "id": "GY0bAQrsHC1g"
      },
      "source": [
        "Existem também uma forma de você coletar valores randômicos do seu DataFrame. Para isso, basta usar a função `sample()`. Dessa forma, ele vai coletar entradas no seu dataset sem uma ordem específica, de forma randômica. Diferente das funções anteriores, se você não colocar um parâmetro ela coletará apenas 1 entrada. Portanto coloque o parâmetro do número de entradas que deseja que seja coletado."
      ]
    },
    {
      "cell_type": "code",
      "metadata": {
        "colab": {
          "base_uri": "https://localhost:8080/",
          "height": 80
        },
        "id": "pjNZVK6HHZyQ",
        "outputId": "fff6dbc9-1831-4276-a15f-e42e0385bed1"
      },
      "source": [
        "# mostrar 1 entrada escolhida aleatóriamente do DataFrame\r\n",
        "df.sample()"
      ],
      "execution_count": 17,
      "outputs": [
        {
          "output_type": "execute_result",
          "data": {
            "text/html": [
              "<div>\n",
              "<style scoped>\n",
              "    .dataframe tbody tr th:only-of-type {\n",
              "        vertical-align: middle;\n",
              "    }\n",
              "\n",
              "    .dataframe tbody tr th {\n",
              "        vertical-align: top;\n",
              "    }\n",
              "\n",
              "    .dataframe thead th {\n",
              "        text-align: right;\n",
              "    }\n",
              "</style>\n",
              "<table border=\"1\" class=\"dataframe\">\n",
              "  <thead>\n",
              "    <tr style=\"text-align: right;\">\n",
              "      <th></th>\n",
              "      <th>Date</th>\n",
              "      <th>Open</th>\n",
              "      <th>High</th>\n",
              "      <th>Low</th>\n",
              "      <th>Close</th>\n",
              "      <th>Adj Close</th>\n",
              "      <th>Volume</th>\n",
              "    </tr>\n",
              "  </thead>\n",
              "  <tbody>\n",
              "    <tr>\n",
              "      <th>89</th>\n",
              "      <td>2020-06-22</td>\n",
              "      <td>10.37</td>\n",
              "      <td>10.4</td>\n",
              "      <td>10.04</td>\n",
              "      <td>10.15</td>\n",
              "      <td>9.959464</td>\n",
              "      <td>33664700.0</td>\n",
              "    </tr>\n",
              "  </tbody>\n",
              "</table>\n",
              "</div>"
            ],
            "text/plain": [
              "          Date   Open  High    Low  Close  Adj Close      Volume\n",
              "89  2020-06-22  10.37  10.4  10.04  10.15   9.959464  33664700.0"
            ]
          },
          "metadata": {
            "tags": []
          },
          "execution_count": 17
        }
      ]
    },
    {
      "cell_type": "code",
      "metadata": {
        "colab": {
          "base_uri": "https://localhost:8080/",
          "height": 359
        },
        "id": "yuBm7LxmHnUO",
        "outputId": "825c8acc-ac54-442f-9ec9-0c08d69e9700"
      },
      "source": [
        "# mostrar 10 entradas escolhidas aleatóriamente do DataFrame\r\n",
        "df.sample(10)"
      ],
      "execution_count": 18,
      "outputs": [
        {
          "output_type": "execute_result",
          "data": {
            "text/html": [
              "<div>\n",
              "<style scoped>\n",
              "    .dataframe tbody tr th:only-of-type {\n",
              "        vertical-align: middle;\n",
              "    }\n",
              "\n",
              "    .dataframe tbody tr th {\n",
              "        vertical-align: top;\n",
              "    }\n",
              "\n",
              "    .dataframe thead th {\n",
              "        text-align: right;\n",
              "    }\n",
              "</style>\n",
              "<table border=\"1\" class=\"dataframe\">\n",
              "  <thead>\n",
              "    <tr style=\"text-align: right;\">\n",
              "      <th></th>\n",
              "      <th>Date</th>\n",
              "      <th>Open</th>\n",
              "      <th>High</th>\n",
              "      <th>Low</th>\n",
              "      <th>Close</th>\n",
              "      <th>Adj Close</th>\n",
              "      <th>Volume</th>\n",
              "    </tr>\n",
              "  </thead>\n",
              "  <tbody>\n",
              "    <tr>\n",
              "      <th>96</th>\n",
              "      <td>2020-07-01</td>\n",
              "      <td>9.67</td>\n",
              "      <td>9.87</td>\n",
              "      <td>9.64</td>\n",
              "      <td>9.79</td>\n",
              "      <td>9.606222</td>\n",
              "      <td>25626700.0</td>\n",
              "    </tr>\n",
              "    <tr>\n",
              "      <th>10</th>\n",
              "      <td>2020-02-26</td>\n",
              "      <td>NaN</td>\n",
              "      <td>NaN</td>\n",
              "      <td>NaN</td>\n",
              "      <td>NaN</td>\n",
              "      <td>NaN</td>\n",
              "      <td>NaN</td>\n",
              "    </tr>\n",
              "    <tr>\n",
              "      <th>95</th>\n",
              "      <td>2020-06-30</td>\n",
              "      <td>9.80</td>\n",
              "      <td>9.85</td>\n",
              "      <td>9.58</td>\n",
              "      <td>9.59</td>\n",
              "      <td>9.409975</td>\n",
              "      <td>38928400.0</td>\n",
              "    </tr>\n",
              "    <tr>\n",
              "      <th>12</th>\n",
              "      <td>2020-02-28</td>\n",
              "      <td>11.86</td>\n",
              "      <td>12.04</td>\n",
              "      <td>11.70</td>\n",
              "      <td>12.01</td>\n",
              "      <td>11.738367</td>\n",
              "      <td>47839800.0</td>\n",
              "    </tr>\n",
              "    <tr>\n",
              "      <th>147</th>\n",
              "      <td>2020-09-11</td>\n",
              "      <td>9.48</td>\n",
              "      <td>9.49</td>\n",
              "      <td>9.22</td>\n",
              "      <td>9.27</td>\n",
              "      <td>9.153064</td>\n",
              "      <td>25654800.0</td>\n",
              "    </tr>\n",
              "    <tr>\n",
              "      <th>204</th>\n",
              "      <td>2020-12-04</td>\n",
              "      <td>11.26</td>\n",
              "      <td>11.29</td>\n",
              "      <td>11.07</td>\n",
              "      <td>11.21</td>\n",
              "      <td>11.089554</td>\n",
              "      <td>24138900.0</td>\n",
              "    </tr>\n",
              "    <tr>\n",
              "      <th>72</th>\n",
              "      <td>2020-05-27</td>\n",
              "      <td>9.09</td>\n",
              "      <td>9.15</td>\n",
              "      <td>8.98</td>\n",
              "      <td>9.11</td>\n",
              "      <td>8.918809</td>\n",
              "      <td>26588400.0</td>\n",
              "    </tr>\n",
              "    <tr>\n",
              "      <th>145</th>\n",
              "      <td>2020-09-09</td>\n",
              "      <td>9.70</td>\n",
              "      <td>9.78</td>\n",
              "      <td>9.62</td>\n",
              "      <td>9.68</td>\n",
              "      <td>9.557892</td>\n",
              "      <td>16523600.0</td>\n",
              "    </tr>\n",
              "    <tr>\n",
              "      <th>161</th>\n",
              "      <td>2020-10-01</td>\n",
              "      <td>8.85</td>\n",
              "      <td>8.92</td>\n",
              "      <td>8.76</td>\n",
              "      <td>8.90</td>\n",
              "      <td>8.787729</td>\n",
              "      <td>22780600.0</td>\n",
              "    </tr>\n",
              "    <tr>\n",
              "      <th>92</th>\n",
              "      <td>2020-06-25</td>\n",
              "      <td>9.83</td>\n",
              "      <td>10.00</td>\n",
              "      <td>9.71</td>\n",
              "      <td>9.96</td>\n",
              "      <td>9.773031</td>\n",
              "      <td>26714500.0</td>\n",
              "    </tr>\n",
              "  </tbody>\n",
              "</table>\n",
              "</div>"
            ],
            "text/plain": [
              "           Date   Open   High    Low  Close  Adj Close      Volume\n",
              "96   2020-07-01   9.67   9.87   9.64   9.79   9.606222  25626700.0\n",
              "10   2020-02-26    NaN    NaN    NaN    NaN        NaN         NaN\n",
              "95   2020-06-30   9.80   9.85   9.58   9.59   9.409975  38928400.0\n",
              "12   2020-02-28  11.86  12.04  11.70  12.01  11.738367  47839800.0\n",
              "147  2020-09-11   9.48   9.49   9.22   9.27   9.153064  25654800.0\n",
              "204  2020-12-04  11.26  11.29  11.07  11.21  11.089554  24138900.0\n",
              "72   2020-05-27   9.09   9.15   8.98   9.11   8.918809  26588400.0\n",
              "145  2020-09-09   9.70   9.78   9.62   9.68   9.557892  16523600.0\n",
              "161  2020-10-01   8.85   8.92   8.76   8.90   8.787729  22780600.0\n",
              "92   2020-06-25   9.83  10.00   9.71   9.96   9.773031  26714500.0"
            ]
          },
          "metadata": {
            "tags": []
          },
          "execution_count": 18
        }
      ]
    },
    {
      "cell_type": "markdown",
      "metadata": {
        "id": "-ldbd6pN-MNy"
      },
      "source": [
        "###Identificando nossos Dados\r\n",
        "\r\n",
        "Caso você precise extrair apenas os nomes de cada coluna do nosso DataFrame, podemos utilizar o atributo `columns`."
      ]
    },
    {
      "cell_type": "code",
      "metadata": {
        "colab": {
          "base_uri": "https://localhost:8080/"
        },
        "id": "e24wju4r-uV-",
        "outputId": "9b4560db-6108-4be2-8301-5724c57f1915"
      },
      "source": [
        "# Identificar os nomes das colunas\r\n",
        "df.columns"
      ],
      "execution_count": 10,
      "outputs": [
        {
          "output_type": "execute_result",
          "data": {
            "text/plain": [
              "Index(['Date', 'Open', 'High', 'Low', 'Close', 'Adj Close', 'Volume'], dtype='object')"
            ]
          },
          "metadata": {
            "tags": []
          },
          "execution_count": 10
        }
      ]
    },
    {
      "cell_type": "markdown",
      "metadata": {
        "id": "zbTvyPg7-z66"
      },
      "source": [
        "Nesse exemplo, recebemos como resposta o nome de cada uma das nossas colunas: 'Date', 'Open', 'High', 'Low', 'Close', 'Adj Close', 'Volume'.\r\n",
        "\r\n",
        "Além disso, é muito importante conhecer o tipo de variável que está sendo trabalhado em nossas colunas. Dessa forma, podemos verificar se a variável está apropriada para o nosso objetivo, ou se será necessário modifica-las para alcançarmos nosso objetivo.\r\n",
        "\r\n",
        "Para conhecer os tipos de variáveis de cada coluna, usamos o atributo `dtypes`."
      ]
    },
    {
      "cell_type": "code",
      "metadata": {
        "colab": {
          "base_uri": "https://localhost:8080/"
        },
        "id": "pm2iN1By_nkA",
        "outputId": "a8d1c284-4f20-4d02-f698-f4585a4a547d"
      },
      "source": [
        "#Identificando os tipos de Variáveis de Cada coluna\r\n",
        "df.dtypes"
      ],
      "execution_count": 13,
      "outputs": [
        {
          "output_type": "execute_result",
          "data": {
            "text/plain": [
              "Date          object\n",
              "Open         float64\n",
              "High         float64\n",
              "Low          float64\n",
              "Close        float64\n",
              "Adj Close    float64\n",
              "Volume       float64\n",
              "dtype: object"
            ]
          },
          "metadata": {
            "tags": []
          },
          "execution_count": 13
        }
      ]
    },
    {
      "cell_type": "markdown",
      "metadata": {
        "id": "OoOcNq0x_tSS"
      },
      "source": [
        "No nosso exemplo acima, observe que o tipo da variável da coluna Date é um objeto. Isso acontece pois ao ler a data, a nossa máquina identifica como texto, e não como um valor de data (`datetime`). Isso pode ser um problema na hora de manipularmos esses dados. Já os demais valores, estão completamente de acordo com o tipo que desejamos. Portanto, posteriormente, vamos fazer uma transformação desses dados da coluna Date para transforma-la no tipo de `Datetime`.\r\n",
        "\r\n",
        "Além do `dtypes`, também podemos utilizar outra maneira para descobrir o tipo de variaveis, a função `info()`. Além do tipo, ela também nos retorna os valores ausentes nas células. Vale ressaltar que, apesar de ser mais completo, a função `info()` pode demorar muito mais para retornar do que utilizando o atributo `dtypes`. Isso acontece pois a função info() necessita de muito mais poder de processamento e memória para entregar o resultado. Porém, para pequenas quantidades de dados, como no nosso exemplo, isso pode ser irrelevante."
      ]
    },
    {
      "cell_type": "code",
      "metadata": {
        "colab": {
          "base_uri": "https://localhost:8080/"
        },
        "id": "OZ2xQGKwAnsC",
        "outputId": "0c404a95-6e41-4ec2-b6f7-a9040ecf985f"
      },
      "source": [
        "df.info()"
      ],
      "execution_count": 14,
      "outputs": [
        {
          "output_type": "stream",
          "text": [
            "<class 'pandas.core.frame.DataFrame'>\n",
            "RangeIndex: 246 entries, 0 to 245\n",
            "Data columns (total 7 columns):\n",
            " #   Column     Non-Null Count  Dtype  \n",
            "---  ------     --------------  -----  \n",
            " 0   Date       246 non-null    object \n",
            " 1   Open       245 non-null    float64\n",
            " 2   High       245 non-null    float64\n",
            " 3   Low        245 non-null    float64\n",
            " 4   Close      245 non-null    float64\n",
            " 5   Adj Close  245 non-null    float64\n",
            " 6   Volume     245 non-null    float64\n",
            "dtypes: float64(6), object(1)\n",
            "memory usage: 13.6+ KB\n"
          ],
          "name": "stdout"
        }
      ]
    },
    {
      "cell_type": "markdown",
      "metadata": {
        "id": "zPtet3v0BQ4S"
      },
      "source": [
        "### Selecionando Colunas\r\n",
        "\r\n",
        "Existem diversas formas de selecionarmos sub-conjuntos de dados do nosso dataFrame. Uma delas, a mais utilizada, é selecionando uma coluna.\r\n",
        "\r\n",
        "Para isso é bem simples, basta chamar a nossa variável do DataFrame com o parâmetro da nossa coluna dentro dele. Ou seja, algo como df[\"nome da coluna\"]. Observe que, dessa forma, não há problemas que o nome de nossa coluna possua caracteres especiais, como o próprio espaço.\r\n",
        "\r\n",
        "Vamos utilizar esse método para selecionarmos a nossa coluna High"
      ]
    },
    {
      "cell_type": "code",
      "metadata": {
        "colab": {
          "base_uri": "https://localhost:8080/"
        },
        "id": "WSQsu1rvCwtg",
        "outputId": "9eba8c18-d705-4411-bf69-8a6fc54e76cf"
      },
      "source": [
        "#Selecionando a coluna High\r\n",
        "df[\"High\"]"
      ],
      "execution_count": 15,
      "outputs": [
        {
          "output_type": "execute_result",
          "data": {
            "text/plain": [
              "0      13.16\n",
              "1      13.39\n",
              "2      13.51\n",
              "3      13.36\n",
              "4      13.17\n",
              "       ...  \n",
              "241    10.92\n",
              "242    11.02\n",
              "243    10.90\n",
              "244    10.89\n",
              "245    10.75\n",
              "Name: High, Length: 246, dtype: float64"
            ]
          },
          "metadata": {
            "tags": []
          },
          "execution_count": 15
        }
      ]
    },
    {
      "cell_type": "markdown",
      "metadata": {
        "id": "T3gtYA1HC26B"
      },
      "source": [
        "Observe que ele retorna somente a coluna selecionada, assim como ainda nos informa o nome, tamanho e tipo de variável.\r\n",
        "\r\n",
        "Porém, nós também podemos selecionar um coluna em forma de atributo. Mas é importante ressaltar que essa forma só funciona para colunas que não possuam caracteres especiais em seu nome. Usando a mesma coluna acima, basta selecionarmos a coluna com `df.High`\r\n",
        "\r\n"
      ]
    },
    {
      "cell_type": "code",
      "metadata": {
        "colab": {
          "base_uri": "https://localhost:8080/"
        },
        "id": "wxQOni1cC5as",
        "outputId": "453ad4e9-4d9a-48f3-a884-34312d9da39d"
      },
      "source": [
        "#Selecionando a coluna High\r\n",
        "df.High"
      ],
      "execution_count": 16,
      "outputs": [
        {
          "output_type": "execute_result",
          "data": {
            "text/plain": [
              "0      13.16\n",
              "1      13.39\n",
              "2      13.51\n",
              "3      13.36\n",
              "4      13.17\n",
              "       ...  \n",
              "241    10.92\n",
              "242    11.02\n",
              "243    10.90\n",
              "244    10.89\n",
              "245    10.75\n",
              "Name: High, Length: 246, dtype: float64"
            ]
          },
          "metadata": {
            "tags": []
          },
          "execution_count": 16
        }
      ]
    },
    {
      "cell_type": "markdown",
      "metadata": {
        "id": "N72ibOnAIb4v"
      },
      "source": [
        "Além da seleção de um única coluna, também podemos selecionar mais de uma coluna por vez. Para isso, basta usarmos o primeiro método, porém enviando o parâmetro de nossas colunas em forma de array, separando por virgulas`[[\"coluna1\",\"coluna2\",\"coluna3\",...,\"coluna N\"]]`. Por exemplo, digamos que queremos selecionar duas colunas, as colunas High e Low, vamos então utilizar `df[[\"High\",\"Low\"]]`"
      ]
    },
    {
      "cell_type": "code",
      "metadata": {
        "colab": {
          "base_uri": "https://localhost:8080/",
          "height": 419
        },
        "id": "iNubFSOhJHx3",
        "outputId": "302ad3e4-cb53-442d-dece-c11d95d6f2e3"
      },
      "source": [
        "#Seleção de multiplas colunas\r\n",
        "df[[\"High\",\"Low\"]]"
      ],
      "execution_count": 19,
      "outputs": [
        {
          "output_type": "execute_result",
          "data": {
            "text/html": [
              "<div>\n",
              "<style scoped>\n",
              "    .dataframe tbody tr th:only-of-type {\n",
              "        vertical-align: middle;\n",
              "    }\n",
              "\n",
              "    .dataframe tbody tr th {\n",
              "        vertical-align: top;\n",
              "    }\n",
              "\n",
              "    .dataframe thead th {\n",
              "        text-align: right;\n",
              "    }\n",
              "</style>\n",
              "<table border=\"1\" class=\"dataframe\">\n",
              "  <thead>\n",
              "    <tr style=\"text-align: right;\">\n",
              "      <th></th>\n",
              "      <th>High</th>\n",
              "      <th>Low</th>\n",
              "    </tr>\n",
              "  </thead>\n",
              "  <tbody>\n",
              "    <tr>\n",
              "      <th>0</th>\n",
              "      <td>13.16</td>\n",
              "      <td>12.75</td>\n",
              "    </tr>\n",
              "    <tr>\n",
              "      <th>1</th>\n",
              "      <td>13.39</td>\n",
              "      <td>13.09</td>\n",
              "    </tr>\n",
              "    <tr>\n",
              "      <th>2</th>\n",
              "      <td>13.51</td>\n",
              "      <td>13.25</td>\n",
              "    </tr>\n",
              "    <tr>\n",
              "      <th>3</th>\n",
              "      <td>13.36</td>\n",
              "      <td>13.13</td>\n",
              "    </tr>\n",
              "    <tr>\n",
              "      <th>4</th>\n",
              "      <td>13.17</td>\n",
              "      <td>13.00</td>\n",
              "    </tr>\n",
              "    <tr>\n",
              "      <th>...</th>\n",
              "      <td>...</td>\n",
              "      <td>...</td>\n",
              "    </tr>\n",
              "    <tr>\n",
              "      <th>241</th>\n",
              "      <td>10.92</td>\n",
              "      <td>10.55</td>\n",
              "    </tr>\n",
              "    <tr>\n",
              "      <th>242</th>\n",
              "      <td>11.02</td>\n",
              "      <td>10.77</td>\n",
              "    </tr>\n",
              "    <tr>\n",
              "      <th>243</th>\n",
              "      <td>10.90</td>\n",
              "      <td>10.75</td>\n",
              "    </tr>\n",
              "    <tr>\n",
              "      <th>244</th>\n",
              "      <td>10.89</td>\n",
              "      <td>10.70</td>\n",
              "    </tr>\n",
              "    <tr>\n",
              "      <th>245</th>\n",
              "      <td>10.75</td>\n",
              "      <td>10.58</td>\n",
              "    </tr>\n",
              "  </tbody>\n",
              "</table>\n",
              "<p>246 rows × 2 columns</p>\n",
              "</div>"
            ],
            "text/plain": [
              "      High    Low\n",
              "0    13.16  12.75\n",
              "1    13.39  13.09\n",
              "2    13.51  13.25\n",
              "3    13.36  13.13\n",
              "4    13.17  13.00\n",
              "..     ...    ...\n",
              "241  10.92  10.55\n",
              "242  11.02  10.77\n",
              "243  10.90  10.75\n",
              "244  10.89  10.70\n",
              "245  10.75  10.58\n",
              "\n",
              "[246 rows x 2 columns]"
            ]
          },
          "metadata": {
            "tags": []
          },
          "execution_count": 19
        }
      ]
    },
    {
      "cell_type": "markdown",
      "metadata": {
        "id": "WLI9jIkDH_mX"
      },
      "source": [
        "### Funções Estatísticas básicas com Pandas\r\n",
        "\r\n",
        "A biblioteca Pandas também nos auxilia muito para realizar alguns cálculos estatísticos.\r\n",
        "\r\n",
        "Caso você queira calcular a media de uma coluna, basta utilizar a função `mean()`"
      ]
    },
    {
      "cell_type": "code",
      "metadata": {
        "colab": {
          "base_uri": "https://localhost:8080/"
        },
        "id": "3T3V8SH-JrRg",
        "outputId": "91d7f3c6-be55-4bba-a567-6077139385a5"
      },
      "source": [
        "# calcular a média da coluna \"High\"\r\n",
        "df.High.mean()"
      ],
      "execution_count": 20,
      "outputs": [
        {
          "output_type": "execute_result",
          "data": {
            "text/plain": [
              "10.285673469387755"
            ]
          },
          "metadata": {
            "tags": []
          },
          "execution_count": 20
        }
      ]
    },
    {
      "cell_type": "markdown",
      "metadata": {
        "id": "Y_LOQ3dhJtEu"
      },
      "source": [
        "Observe que a média da nossa Coluna High é 10.285673469387755.\r\n",
        "\r\n",
        "Também podemos utilizar as funções `min()` e `max()` para identificarmos facilmente qual é o valor minímo encontrado e o valor máximo encontrado em nossa coluna.\r\n"
      ]
    },
    {
      "cell_type": "code",
      "metadata": {
        "colab": {
          "base_uri": "https://localhost:8080/"
        },
        "id": "uOMiM9DtKGKY",
        "outputId": "b6b44088-40ec-48dc-a92d-816ffeadf8ce"
      },
      "source": [
        "df.High.min()"
      ],
      "execution_count": 21,
      "outputs": [
        {
          "output_type": "execute_result",
          "data": {
            "text/plain": [
              "8.3"
            ]
          },
          "metadata": {
            "tags": []
          },
          "execution_count": 21
        }
      ]
    },
    {
      "cell_type": "markdown",
      "metadata": {
        "id": "yR1FoipJKTij"
      },
      "source": [
        "Isso significa que o menor valor encontrado na nossa coluna High é de 8.3"
      ]
    },
    {
      "cell_type": "code",
      "metadata": {
        "colab": {
          "base_uri": "https://localhost:8080/"
        },
        "id": "DIvSN2maKKZo",
        "outputId": "ec04dd75-67de-444d-f7cc-60857203783d"
      },
      "source": [
        "df.High.max()"
      ],
      "execution_count": 22,
      "outputs": [
        {
          "output_type": "execute_result",
          "data": {
            "text/plain": [
              "13.51"
            ]
          },
          "metadata": {
            "tags": []
          },
          "execution_count": 22
        }
      ]
    },
    {
      "cell_type": "markdown",
      "metadata": {
        "id": "dIOLGn-vKaV2"
      },
      "source": [
        "Isso significa que o maior valor encontrado na nossa coluna High é de 13.51\r\n",
        "\r\n",
        "Além disso, podemos ainda calcular rapidamente a mediana de nossa coluna usando a função `median()`"
      ]
    },
    {
      "cell_type": "code",
      "metadata": {
        "colab": {
          "base_uri": "https://localhost:8080/"
        },
        "id": "_ua9lkgKKMNO",
        "outputId": "39e252ec-a43c-4060-d56d-a2aba83c6828"
      },
      "source": [
        "df.High.median()"
      ],
      "execution_count": 24,
      "outputs": [
        {
          "output_type": "execute_result",
          "data": {
            "text/plain": [
              "10.05"
            ]
          },
          "metadata": {
            "tags": []
          },
          "execution_count": 24
        }
      ]
    },
    {
      "cell_type": "markdown",
      "metadata": {
        "id": "MRQ-vgcaKlB2"
      },
      "source": [
        "Portanto, a mediana da coluna High é de 10.05.\r\n",
        "\r\n",
        "Além dessas, existem diversas outras funções que facilitam muito para uma análise estatística através do Pandas. Vale a pena ver a documentação e buscar o que está precisando."
      ]
    },
    {
      "cell_type": "markdown",
      "metadata": {
        "id": "Wabh1-0bKyAX"
      },
      "source": [
        "### Trabalhando com datas e o formato datetime\r\n",
        "\r\n",
        "Ao importarmos Base de Dados que contém datas, é muito provavel que o Pandas não consigar reconhecer as mesmas de forma automática. Assim como no nosso exemplo, as datas acabaram sendo identificadas como objetos, pois ao analisar os dados, o Pandas interpretou nossas datas como texto. Quando trabalhamos com datas, o formato ideal é o formato `datetime`. \r\n",
        "\r\n",
        "O Pandas nos permite realizar a conversão de colunas de datas que não estão no formato ideal para o formato correto. Para isso utilizamos a função `pd.to_datetime`. Esta função deve receber dois parâmetros. O primeir é a coluna que será trabalhado, já o segundo e o formato que nossas datas estão escritas na coluna.\r\n",
        "\r\n",
        "Vamos então analisar a nossa coluna Date no formato atual..."
      ]
    },
    {
      "cell_type": "code",
      "metadata": {
        "colab": {
          "base_uri": "https://localhost:8080/"
        },
        "id": "Z7ho-y7MMbu3",
        "outputId": "167fd1bd-bcaf-45af-e8c1-9bffb47ac582"
      },
      "source": [
        "df.Date"
      ],
      "execution_count": 5,
      "outputs": [
        {
          "output_type": "execute_result",
          "data": {
            "text/plain": [
              "0      2020-02-10\n",
              "1      2020-02-11\n",
              "2      2020-02-12\n",
              "3      2020-02-13\n",
              "4      2020-02-14\n",
              "          ...    \n",
              "241    2021-02-02\n",
              "242    2021-02-03\n",
              "243    2021-02-04\n",
              "244    2021-02-05\n",
              "245    2021-02-08\n",
              "Name: Date, Length: 246, dtype: object"
            ]
          },
          "metadata": {
            "tags": []
          },
          "execution_count": 5
        }
      ]
    },
    {
      "cell_type": "markdown",
      "metadata": {
        "id": "4R-12KNgMlvN"
      },
      "source": [
        "Agora já sabemos que a coluna Date está com as datas escrita em Ano - Mês - Dia... Portanto, o formato será: \"%Y-%m-%d\". Utilizando nossa funçao `pd.to_datetime`, vamos então converter e já substituir os valores da nossa Date pelos valores atualizados."
      ]
    },
    {
      "cell_type": "code",
      "metadata": {
        "id": "pMHYUUctM4sk"
      },
      "source": [
        "# converter coluna Date em datetime\r\n",
        "df.Date = pd.to_datetime(df.Date, format=\"%Y-%m-%d\")"
      ],
      "execution_count": 6,
      "outputs": []
    },
    {
      "cell_type": "markdown",
      "metadata": {
        "id": "ZknNWUgoM8ks"
      },
      "source": [
        "Pronto, agora vamos análisar novamente a coluna."
      ]
    },
    {
      "cell_type": "code",
      "metadata": {
        "colab": {
          "base_uri": "https://localhost:8080/"
        },
        "id": "wqx0mVBdNCNd",
        "outputId": "924326f5-62ac-4bea-db03-bfd1c72df00c"
      },
      "source": [
        "df.Date"
      ],
      "execution_count": 7,
      "outputs": [
        {
          "output_type": "execute_result",
          "data": {
            "text/plain": [
              "0     2020-02-10\n",
              "1     2020-02-11\n",
              "2     2020-02-12\n",
              "3     2020-02-13\n",
              "4     2020-02-14\n",
              "         ...    \n",
              "241   2021-02-02\n",
              "242   2021-02-03\n",
              "243   2021-02-04\n",
              "244   2021-02-05\n",
              "245   2021-02-08\n",
              "Name: Date, Length: 246, dtype: datetime64[ns]"
            ]
          },
          "metadata": {
            "tags": []
          },
          "execution_count": 7
        }
      ]
    },
    {
      "cell_type": "markdown",
      "metadata": {
        "id": "eUa7MIneNFMe"
      },
      "source": [
        "Observe que, apesar de não notarmos diferença ao ler as datas, a nossa máquina agora foi capaz de identificar o tipo da nossa variável como dtype: datetime64[ns], portanto, agora podemos trabalhar melhor com esses dados!\r\n",
        "\r\n",
        "Mas, é importante saber que um usuário pode lanças as datas de diversas formas diferentes. Você pode encontrar exemplos como:\r\n",
        "\r\n",
        "* 31/06/15\r\n",
        "* 31/06/2015\r\n",
        "* 31-6-15\r\n",
        "* 2015-6-31\r\n",
        "* 31 de junho de 2015\r\n",
        "\r\n",
        "Para esses casos, o nosso parametro format deve ser alterado conforme o necessário. Portanto, você vai precisar de auxilio das documentações. Seguem dois links que serão úteis para isso:\r\n",
        "\r\n",
        "* https://pandas.pydata.org/docs/reference/api/pandas.to_datetime.html?highlight=to_datetime#pandas.to_datetime\r\n",
        "* https://docs.python.org/3/library/datetime.html#strftime-and-strptime-behavior"
      ]
    }
  ]
}